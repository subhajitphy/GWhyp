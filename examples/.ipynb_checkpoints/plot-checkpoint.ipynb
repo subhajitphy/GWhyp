{
 "cells": [
  {
   "cell_type": "code",
   "execution_count": 1,
   "id": "5655a55e-5804-44fb-911c-71644807d36c",
   "metadata": {},
   "outputs": [],
   "source": [
    "from gw_hyp import get_hyp_waveform as gywq, cal_sp_sx, cal_sp_sx_A, hyp_pta_res\n",
    "from constants import *\n",
    "import numpy as np\n",
    "import matplotlib.pyplot as plt\n",
    "from numpy import sqrt"
   ]
  },
  {
   "cell_type": "code",
   "execution_count": 2,
   "id": "668946fb-0c30-424f-861b-14918aca1504",
   "metadata": {},
   "outputs": [],
   "source": [
    "M0=1e10\n",
    "q=1\n",
    "e0=1.1\n",
    "b=100\n"
   ]
  },
  {
   "cell_type": "code",
   "execution_count": 3,
   "id": "376e0003-8070-401c-9d34-636e1f04a845",
   "metadata": {},
   "outputs": [
    {
     "data": {
      "text/plain": [
       "6.612118359704331e-09"
      ]
     },
     "execution_count": 3,
     "metadata": {},
     "output_type": "execute_result"
    }
   ],
   "source": [
    "x0=sqrt(e0**2-1)/b\n",
    "n0=x0**(3/2)/(M0*tsun)\n",
    "n0"
   ]
  },
  {
   "cell_type": "code",
   "execution_count": 4,
   "id": "fdf705b3-6948-46de-8930-b30a529909bb",
   "metadata": {},
   "outputs": [],
   "source": [
    "ti=-1\n",
    "tf=1\n",
    "t_step=1000\n",
    "inc=np.pi/3\n",
    "order=3\n",
    "tarr=np.linspace(ti,tf,t_step)*yr\n",
    "eta=q/(1+q)**2"
   ]
  },
  {
   "cell_type": "code",
   "execution_count": 5,
   "id": "b16bf29d-f67c-48c0-9092-2fa238694f8e",
   "metadata": {},
   "outputs": [],
   "source": [
    "D_GW=1.6*1e9*pc"
   ]
  },
  {
   "cell_type": "code",
   "execution_count": 6,
   "id": "ebb6665b-ced5-4ba7-876e-345b2f62537e",
   "metadata": {},
   "outputs": [
    {
     "data": {
      "text/plain": [
       "4.9389910328617316e-08"
      ]
     },
     "execution_count": 6,
     "metadata": {},
     "output_type": "execute_result"
    }
   ],
   "source": [
    "S0= (M0*dsun)*x0*eta/(D_GW*n0)\n",
    "S0"
   ]
  },
  {
   "cell_type": "code",
   "execution_count": 7,
   "id": "fcee449e-a9be-4239-92f9-d5bcef39d433",
   "metadata": {},
   "outputs": [
    {
     "name": "stdout",
     "output_type": "stream",
     "text": [
      "Warning: cannot find astropy, units support will not be available.\n"
     ]
    }
   ],
   "source": [
    "import enterprise\n",
    "from enterprise.pulsar import Pulsar"
   ]
  },
  {
   "cell_type": "code",
   "execution_count": 8,
   "id": "26d2c8b4-e52b-4823-9830-60203e485cdf",
   "metadata": {},
   "outputs": [],
   "source": [
    "datadir = f\"{enterprise.__path__[0]}/datafiles/mdc_open1\"\n",
    "parfile = f\"{datadir}/J0030+0451.par\"\n",
    "timfile = f\"{datadir}/J0030+0451.tim\""
   ]
  },
  {
   "cell_type": "code",
   "execution_count": 9,
   "id": "4808092c-e943-4e47-906d-5b0d32acd283",
   "metadata": {},
   "outputs": [
    {
     "name": "stdout",
     "output_type": "stream",
     "text": [
      "[tempo2Util.C:396] Warning: [TIM1] Please place MODE flags in the parameter file \n"
     ]
    }
   ],
   "source": [
    "psr = Pulsar(parfile, timfile)"
   ]
  },
  {
   "cell_type": "code",
   "execution_count": 10,
   "id": "49636d25-e43e-404c-9eb9-3cb6a88eeb75",
   "metadata": {},
   "outputs": [],
   "source": [
    "from gw_functions import hms_to_rad, dms_to_rad"
   ]
  },
  {
   "cell_type": "code",
   "execution_count": 11,
   "id": "7cd4b34a-ce38-46dd-a069-3782815f917e",
   "metadata": {},
   "outputs": [],
   "source": [
    "RA_GW = 0.5\n",
    "DEC_GW = 0.75\n",
    "cos_inc=0.5\n",
    "tref1 = (max(psr.toas)+min(psr.toas))/2"
   ]
  },
  {
   "cell_type": "code",
   "execution_count": 12,
   "id": "7c6d34e5-f778-4af8-8dc6-d34dd9c2bbf3",
   "metadata": {},
   "outputs": [],
   "source": [
    "gwhyp_params = {\n",
    "    \"cos_gwtheta\": np.sin(DEC_GW),\n",
    "    \"gwphi\": RA_GW,\n",
    "    \"psi\": 0,\n",
    "    \"cos_inc\": cos_inc,\n",
    "    \"log10_M\": np.log10(M0),\n",
    "    \"q\": q,\n",
    "    \"log10_n\":np.log10(n0),\n",
    "    \"e0\":e0,\n",
    "    \"log10_S\":np.log10(S0),\n",
    "    \"tref\": tref1\n",
    "}"
   ]
  },
  {
   "cell_type": "code",
   "execution_count": 13,
   "id": "2f4c8ede-6c07-40fe-9d4c-e0f9afb49aaf",
   "metadata": {},
   "outputs": [],
   "source": [
    "signal=hyp_pta_res(toas=psr.toas,\n",
    "theta = psr.theta,\n",
    "phi = psr.phi,\n",
    "**gwhyp_params)"
   ]
  },
  {
   "cell_type": "code",
   "execution_count": 14,
   "id": "75f5e5b7-931f-4aeb-ad4b-bbb86d4b3002",
   "metadata": {},
   "outputs": [
    {
     "data": {
      "text/plain": [
       "[<matplotlib.lines.Line2D at 0x7fedc3aa0d90>]"
      ]
     },
     "execution_count": 14,
     "metadata": {},
     "output_type": "execute_result"
    },
    {
     "data": {
      "image/png": "[encoded data removed]",
      "text/plain": [
       "<Figure size 640x480 with 1 Axes>"
      ]
     },
     "metadata": {},
     "output_type": "display_data"
    }
   ],
   "source": [
    "plt.plot(psr.toas / yr,signal)"
   ]
  },
  {
   "cell_type": "code",
   "execution_count": null,
   "id": "8e5b492a-f9d8-466c-a5f1-f50dbe95e44f",
   "metadata": {},
   "outputs": [],
   "source": []
  }
 ],
 "metadata": {
  "kernelspec": {
   "display_name": "pta",
   "language": "python",
   "name": "pta"
  },
  "language_info": {
   "codemirror_mode": {
    "name": "ipython",
    "version": 3
   },
   "file_extension": ".py",
   "mimetype": "text/x-python",
   "name": "python",
   "nbconvert_exporter": "python",
   "pygments_lexer": "ipython3",
   "version": "3.10.13"
  }
 },
 "nbformat": 4,
 "nbformat_minor": 5
}
